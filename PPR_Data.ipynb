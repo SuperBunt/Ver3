{
 "cells": [
  {
   "cell_type": "code",
   "execution_count": 21,
   "metadata": {
    "collapsed": false
   },
   "outputs": [
    {
     "ename": "ImportError",
     "evalue": "No module named sql_server",
     "output_type": "error",
     "traceback": [
      "\u001b[0;31m---------------------------------------------------------------------------\u001b[0m",
      "\u001b[0;31mImportError\u001b[0m                               Traceback (most recent call last)",
      "\u001b[0;32m<ipython-input-21-1ba1fa425c08>\u001b[0m in \u001b[0;36m<module>\u001b[0;34m()\u001b[0m\n\u001b[1;32m      1\u001b[0m \u001b[1;32mimport\u001b[0m \u001b[0mpandas\u001b[0m \u001b[1;32mas\u001b[0m \u001b[0mpd\u001b[0m\u001b[1;33m\u001b[0m\u001b[0m\n\u001b[0;32m----> 2\u001b[0;31m \u001b[1;32mfrom\u001b[0m \u001b[0msql_server\u001b[0m \u001b[1;32mimport\u001b[0m \u001b[0mpyodbc\u001b[0m\u001b[1;33m\u001b[0m\u001b[0m\n\u001b[0m\u001b[1;32m      3\u001b[0m \u001b[1;32mimport\u001b[0m \u001b[0mmatplotlib\u001b[0m\u001b[1;33m.\u001b[0m\u001b[0mpyplot\u001b[0m \u001b[1;32mas\u001b[0m \u001b[0mplt\u001b[0m\u001b[1;33m\u001b[0m\u001b[0m\n",
      "\u001b[0;31mImportError\u001b[0m: No module named sql_server"
     ]
    }
   ],
   "source": [
    "import pandas as pd\n",
    "from sql_server import pyodbc\n",
    "import matplotlib.pyplot as plt"
   ]
  },
  {
   "cell_type": "code",
   "execution_count": 13,
   "metadata": {
    "collapsed": false
   },
   "outputs": [],
   "source": [
    "df = pd.read_csv('sampleData.csv', encoding='latin-1')"
   ]
  },
  {
   "cell_type": "code",
   "execution_count": 14,
   "metadata": {
    "collapsed": false
   },
   "outputs": [
    {
     "data": {
      "text/html": [
       "<div>\n",
       "<table border=\"1\" class=\"dataframe\">\n",
       "  <thead>\n",
       "    <tr style=\"text-align: right;\">\n",
       "      <th></th>\n",
       "      <th>dateOfSale</th>\n",
       "      <th>price</th>\n",
       "      <th>address</th>\n",
       "      <th>county</th>\n",
       "      <th>not_full_market</th>\n",
       "    </tr>\n",
       "  </thead>\n",
       "  <tbody>\n",
       "    <tr>\n",
       "      <th>0</th>\n",
       "      <td>05/01/2011</td>\n",
       "      <td>â¬270,000.00</td>\n",
       "      <td>10 CADDELL, THE LINKS, STATION RD, Dublin 13</td>\n",
       "      <td>Dublin</td>\n",
       "      <td>0</td>\n",
       "    </tr>\n",
       "    <tr>\n",
       "      <th>1</th>\n",
       "      <td>05/02/2011</td>\n",
       "      <td>â¬234,000.00</td>\n",
       "      <td>12 LE HUNT HOUSE, BRENNANSTOWN, CABINTEELY VIL...</td>\n",
       "      <td>Cork</td>\n",
       "      <td>0</td>\n",
       "    </tr>\n",
       "    <tr>\n",
       "      <th>2</th>\n",
       "      <td>05/03/2011</td>\n",
       "      <td>â¬165,000.00</td>\n",
       "      <td>129 RIALTO COTTAGES, DUBLIN 8, DUBLIN, Dublin 8</td>\n",
       "      <td>Waterford</td>\n",
       "      <td>0</td>\n",
       "    </tr>\n",
       "    <tr>\n",
       "      <th>3</th>\n",
       "      <td>05/04/2011</td>\n",
       "      <td>â¬157,500.00</td>\n",
       "      <td>23 SUNDALE PARADE, MOUNTAIN VIEW, TALLAGHT DUB...</td>\n",
       "      <td>Limerick</td>\n",
       "      <td>0</td>\n",
       "    </tr>\n",
       "    <tr>\n",
       "      <th>4</th>\n",
       "      <td>05/05/2011</td>\n",
       "      <td>â¬263,000.00</td>\n",
       "      <td>4 KILTIPPER VIEW, KILTIPPER RD, TALLAGHT DUBLI...</td>\n",
       "      <td>Longford</td>\n",
       "      <td>0</td>\n",
       "    </tr>\n",
       "  </tbody>\n",
       "</table>\n",
       "</div>"
      ],
      "text/plain": [
       "   dateOfSale          price  \\\n",
       "0  05/01/2011  â¬270,000.00   \n",
       "1  05/02/2011  â¬234,000.00   \n",
       "2  05/03/2011  â¬165,000.00   \n",
       "3  05/04/2011  â¬157,500.00   \n",
       "4  05/05/2011  â¬263,000.00   \n",
       "\n",
       "                                             address     county  \\\n",
       "0       10 CADDELL, THE LINKS, STATION RD, Dublin 13     Dublin   \n",
       "1  12 LE HUNT HOUSE, BRENNANSTOWN, CABINTEELY VIL...       Cork   \n",
       "2    129 RIALTO COTTAGES, DUBLIN 8, DUBLIN, Dublin 8  Waterford   \n",
       "3  23 SUNDALE PARADE, MOUNTAIN VIEW, TALLAGHT DUB...   Limerick   \n",
       "4  4 KILTIPPER VIEW, KILTIPPER RD, TALLAGHT DUBLI...   Longford   \n",
       "\n",
       "   not_full_market  \n",
       "0                0  \n",
       "1                0  \n",
       "2                0  \n",
       "3                0  \n",
       "4                0  "
      ]
     },
     "execution_count": 14,
     "metadata": {},
     "output_type": "execute_result"
    }
   ],
   "source": [
    "df.head()"
   ]
  },
  {
   "cell_type": "markdown",
   "metadata": {},
   "source": [
    "## Renaming column"
   ]
  },
  {
   "cell_type": "code",
   "execution_count": 15,
   "metadata": {
    "collapsed": false
   },
   "outputs": [
    {
     "data": {
      "text/html": [
       "<div>\n",
       "<table border=\"1\" class=\"dataframe\">\n",
       "  <thead>\n",
       "    <tr style=\"text-align: right;\">\n",
       "      <th></th>\n",
       "      <th>date_of_sale</th>\n",
       "      <th>price</th>\n",
       "      <th>address</th>\n",
       "      <th>county</th>\n",
       "      <th>not_full_market</th>\n",
       "    </tr>\n",
       "  </thead>\n",
       "  <tbody>\n",
       "    <tr>\n",
       "      <th>0</th>\n",
       "      <td>05/01/2011</td>\n",
       "      <td>â¬270,000.00</td>\n",
       "      <td>10 CADDELL, THE LINKS, STATION RD, Dublin 13</td>\n",
       "      <td>Dublin</td>\n",
       "      <td>0</td>\n",
       "    </tr>\n",
       "    <tr>\n",
       "      <th>1</th>\n",
       "      <td>05/02/2011</td>\n",
       "      <td>â¬234,000.00</td>\n",
       "      <td>12 LE HUNT HOUSE, BRENNANSTOWN, CABINTEELY VIL...</td>\n",
       "      <td>Cork</td>\n",
       "      <td>0</td>\n",
       "    </tr>\n",
       "    <tr>\n",
       "      <th>2</th>\n",
       "      <td>05/03/2011</td>\n",
       "      <td>â¬165,000.00</td>\n",
       "      <td>129 RIALTO COTTAGES, DUBLIN 8, DUBLIN, Dublin 8</td>\n",
       "      <td>Waterford</td>\n",
       "      <td>0</td>\n",
       "    </tr>\n",
       "    <tr>\n",
       "      <th>3</th>\n",
       "      <td>05/04/2011</td>\n",
       "      <td>â¬157,500.00</td>\n",
       "      <td>23 SUNDALE PARADE, MOUNTAIN VIEW, TALLAGHT DUB...</td>\n",
       "      <td>Limerick</td>\n",
       "      <td>0</td>\n",
       "    </tr>\n",
       "    <tr>\n",
       "      <th>4</th>\n",
       "      <td>05/05/2011</td>\n",
       "      <td>â¬263,000.00</td>\n",
       "      <td>4 KILTIPPER VIEW, KILTIPPER RD, TALLAGHT DUBLI...</td>\n",
       "      <td>Longford</td>\n",
       "      <td>0</td>\n",
       "    </tr>\n",
       "  </tbody>\n",
       "</table>\n",
       "</div>"
      ],
      "text/plain": [
       "  date_of_sale          price  \\\n",
       "0   05/01/2011  â¬270,000.00   \n",
       "1   05/02/2011  â¬234,000.00   \n",
       "2   05/03/2011  â¬165,000.00   \n",
       "3   05/04/2011  â¬157,500.00   \n",
       "4   05/05/2011  â¬263,000.00   \n",
       "\n",
       "                                             address     county  \\\n",
       "0       10 CADDELL, THE LINKS, STATION RD, Dublin 13     Dublin   \n",
       "1  12 LE HUNT HOUSE, BRENNANSTOWN, CABINTEELY VIL...       Cork   \n",
       "2    129 RIALTO COTTAGES, DUBLIN 8, DUBLIN, Dublin 8  Waterford   \n",
       "3  23 SUNDALE PARADE, MOUNTAIN VIEW, TALLAGHT DUB...   Limerick   \n",
       "4  4 KILTIPPER VIEW, KILTIPPER RD, TALLAGHT DUBLI...   Longford   \n",
       "\n",
       "   not_full_market  \n",
       "0                0  \n",
       "1                0  \n",
       "2                0  \n",
       "3                0  \n",
       "4                0  "
      ]
     },
     "execution_count": 15,
     "metadata": {},
     "output_type": "execute_result"
    }
   ],
   "source": [
    "df = df.rename(columns = {'dateOfSale':'date_of_sale'})\n",
    "df.head()"
   ]
  },
  {
   "cell_type": "markdown",
   "metadata": {},
   "source": [
    "# Parsing dates"
   ]
  },
  {
   "cell_type": "code",
   "execution_count": 16,
   "metadata": {
    "collapsed": false
   },
   "outputs": [
    {
     "data": {
      "text/html": [
       "<div>\n",
       "<table border=\"1\" class=\"dataframe\">\n",
       "  <thead>\n",
       "    <tr style=\"text-align: right;\">\n",
       "      <th></th>\n",
       "      <th>date_of_sale</th>\n",
       "      <th>price</th>\n",
       "      <th>address</th>\n",
       "      <th>county</th>\n",
       "      <th>not_full_market</th>\n",
       "    </tr>\n",
       "  </thead>\n",
       "  <tbody>\n",
       "    <tr>\n",
       "      <th>0</th>\n",
       "      <td>2011-01-05</td>\n",
       "      <td>â¬270,000.00</td>\n",
       "      <td>10 CADDELL, THE LINKS, STATION RD, Dublin 13</td>\n",
       "      <td>Dublin</td>\n",
       "      <td>0</td>\n",
       "    </tr>\n",
       "    <tr>\n",
       "      <th>1</th>\n",
       "      <td>2011-02-05</td>\n",
       "      <td>â¬234,000.00</td>\n",
       "      <td>12 LE HUNT HOUSE, BRENNANSTOWN, CABINTEELY VIL...</td>\n",
       "      <td>Cork</td>\n",
       "      <td>0</td>\n",
       "    </tr>\n",
       "    <tr>\n",
       "      <th>2</th>\n",
       "      <td>2011-03-05</td>\n",
       "      <td>â¬165,000.00</td>\n",
       "      <td>129 RIALTO COTTAGES, DUBLIN 8, DUBLIN, Dublin 8</td>\n",
       "      <td>Waterford</td>\n",
       "      <td>0</td>\n",
       "    </tr>\n",
       "    <tr>\n",
       "      <th>3</th>\n",
       "      <td>2011-04-05</td>\n",
       "      <td>â¬157,500.00</td>\n",
       "      <td>23 SUNDALE PARADE, MOUNTAIN VIEW, TALLAGHT DUB...</td>\n",
       "      <td>Limerick</td>\n",
       "      <td>0</td>\n",
       "    </tr>\n",
       "    <tr>\n",
       "      <th>4</th>\n",
       "      <td>2011-05-05</td>\n",
       "      <td>â¬263,000.00</td>\n",
       "      <td>4 KILTIPPER VIEW, KILTIPPER RD, TALLAGHT DUBLI...</td>\n",
       "      <td>Longford</td>\n",
       "      <td>0</td>\n",
       "    </tr>\n",
       "  </tbody>\n",
       "</table>\n",
       "</div>"
      ],
      "text/plain": [
       "  date_of_sale          price  \\\n",
       "0   2011-01-05  â¬270,000.00   \n",
       "1   2011-02-05  â¬234,000.00   \n",
       "2   2011-03-05  â¬165,000.00   \n",
       "3   2011-04-05  â¬157,500.00   \n",
       "4   2011-05-05  â¬263,000.00   \n",
       "\n",
       "                                             address     county  \\\n",
       "0       10 CADDELL, THE LINKS, STATION RD, Dublin 13     Dublin   \n",
       "1  12 LE HUNT HOUSE, BRENNANSTOWN, CABINTEELY VIL...       Cork   \n",
       "2    129 RIALTO COTTAGES, DUBLIN 8, DUBLIN, Dublin 8  Waterford   \n",
       "3  23 SUNDALE PARADE, MOUNTAIN VIEW, TALLAGHT DUB...   Limerick   \n",
       "4  4 KILTIPPER VIEW, KILTIPPER RD, TALLAGHT DUBLI...   Longford   \n",
       "\n",
       "   not_full_market  \n",
       "0                0  \n",
       "1                0  \n",
       "2                0  \n",
       "3                0  \n",
       "4                0  "
      ]
     },
     "execution_count": 16,
     "metadata": {},
     "output_type": "execute_result"
    }
   ],
   "source": [
    "df['date_of_sale'] = pd.to_datetime(df['date_of_sale'], format='%d/%m/%Y')\n",
    "df.head()"
   ]
  },
  {
   "cell_type": "markdown",
   "metadata": {},
   "source": [
    "# Full market values parsing"
   ]
  },
  {
   "cell_type": "code",
   "execution_count": 17,
   "metadata": {
    "collapsed": false
   },
   "outputs": [],
   "source": [
    "def findFull(row):\n",
    "    return row.find('**') != -1\n",
    "df['not_full_market'] = df['price'].apply(lambda row: findFull(row))"
   ]
  },
  {
   "cell_type": "code",
   "execution_count": 18,
   "metadata": {
    "collapsed": false
   },
   "outputs": [
    {
     "data": {
      "text/html": [
       "<div>\n",
       "<table border=\"1\" class=\"dataframe\">\n",
       "  <thead>\n",
       "    <tr style=\"text-align: right;\">\n",
       "      <th></th>\n",
       "      <th>date_of_sale</th>\n",
       "      <th>price</th>\n",
       "      <th>address</th>\n",
       "      <th>county</th>\n",
       "      <th>not_full_market</th>\n",
       "    </tr>\n",
       "  </thead>\n",
       "  <tbody>\n",
       "    <tr>\n",
       "      <th>0</th>\n",
       "      <td>2011-01-05</td>\n",
       "      <td>â¬270,000.00</td>\n",
       "      <td>10 CADDELL, THE LINKS, STATION RD, Dublin 13</td>\n",
       "      <td>Dublin</td>\n",
       "      <td>False</td>\n",
       "    </tr>\n",
       "    <tr>\n",
       "      <th>1</th>\n",
       "      <td>2011-02-05</td>\n",
       "      <td>â¬234,000.00</td>\n",
       "      <td>12 LE HUNT HOUSE, BRENNANSTOWN, CABINTEELY VIL...</td>\n",
       "      <td>Cork</td>\n",
       "      <td>False</td>\n",
       "    </tr>\n",
       "    <tr>\n",
       "      <th>2</th>\n",
       "      <td>2011-03-05</td>\n",
       "      <td>â¬165,000.00</td>\n",
       "      <td>129 RIALTO COTTAGES, DUBLIN 8, DUBLIN, Dublin 8</td>\n",
       "      <td>Waterford</td>\n",
       "      <td>False</td>\n",
       "    </tr>\n",
       "    <tr>\n",
       "      <th>3</th>\n",
       "      <td>2011-04-05</td>\n",
       "      <td>â¬157,500.00</td>\n",
       "      <td>23 SUNDALE PARADE, MOUNTAIN VIEW, TALLAGHT DUB...</td>\n",
       "      <td>Limerick</td>\n",
       "      <td>False</td>\n",
       "    </tr>\n",
       "    <tr>\n",
       "      <th>4</th>\n",
       "      <td>2011-05-05</td>\n",
       "      <td>â¬263,000.00</td>\n",
       "      <td>4 KILTIPPER VIEW, KILTIPPER RD, TALLAGHT DUBLI...</td>\n",
       "      <td>Longford</td>\n",
       "      <td>False</td>\n",
       "    </tr>\n",
       "  </tbody>\n",
       "</table>\n",
       "</div>"
      ],
      "text/plain": [
       "  date_of_sale          price  \\\n",
       "0   2011-01-05  â¬270,000.00   \n",
       "1   2011-02-05  â¬234,000.00   \n",
       "2   2011-03-05  â¬165,000.00   \n",
       "3   2011-04-05  â¬157,500.00   \n",
       "4   2011-05-05  â¬263,000.00   \n",
       "\n",
       "                                             address     county  \\\n",
       "0       10 CADDELL, THE LINKS, STATION RD, Dublin 13     Dublin   \n",
       "1  12 LE HUNT HOUSE, BRENNANSTOWN, CABINTEELY VIL...       Cork   \n",
       "2    129 RIALTO COTTAGES, DUBLIN 8, DUBLIN, Dublin 8  Waterford   \n",
       "3  23 SUNDALE PARADE, MOUNTAIN VIEW, TALLAGHT DUB...   Limerick   \n",
       "4  4 KILTIPPER VIEW, KILTIPPER RD, TALLAGHT DUBLI...   Longford   \n",
       "\n",
       "  not_full_market  \n",
       "0           False  \n",
       "1           False  \n",
       "2           False  \n",
       "3           False  \n",
       "4           False  "
      ]
     },
     "execution_count": 18,
     "metadata": {},
     "output_type": "execute_result"
    }
   ],
   "source": [
    "df.head()"
   ]
  },
  {
   "cell_type": "markdown",
   "metadata": {},
   "source": [
    "## Parsing price"
   ]
  },
  {
   "cell_type": "code",
   "execution_count": 19,
   "metadata": {
    "collapsed": false
   },
   "outputs": [
    {
     "data": {
      "text/html": [
       "<div>\n",
       "<table border=\"1\" class=\"dataframe\">\n",
       "  <thead>\n",
       "    <tr style=\"text-align: right;\">\n",
       "      <th></th>\n",
       "      <th>date_of_sale</th>\n",
       "      <th>price</th>\n",
       "      <th>address</th>\n",
       "      <th>county</th>\n",
       "      <th>not_full_market</th>\n",
       "    </tr>\n",
       "  </thead>\n",
       "  <tbody>\n",
       "    <tr>\n",
       "      <th>0</th>\n",
       "      <td>2011-01-05</td>\n",
       "      <td>270000.0</td>\n",
       "      <td>10 CADDELL, THE LINKS, STATION RD, Dublin 13</td>\n",
       "      <td>Dublin</td>\n",
       "      <td>False</td>\n",
       "    </tr>\n",
       "    <tr>\n",
       "      <th>1</th>\n",
       "      <td>2011-02-05</td>\n",
       "      <td>234000.0</td>\n",
       "      <td>12 LE HUNT HOUSE, BRENNANSTOWN, CABINTEELY VIL...</td>\n",
       "      <td>Cork</td>\n",
       "      <td>False</td>\n",
       "    </tr>\n",
       "    <tr>\n",
       "      <th>2</th>\n",
       "      <td>2011-03-05</td>\n",
       "      <td>165000.0</td>\n",
       "      <td>129 RIALTO COTTAGES, DUBLIN 8, DUBLIN, Dublin 8</td>\n",
       "      <td>Waterford</td>\n",
       "      <td>False</td>\n",
       "    </tr>\n",
       "    <tr>\n",
       "      <th>3</th>\n",
       "      <td>2011-04-05</td>\n",
       "      <td>157500.0</td>\n",
       "      <td>23 SUNDALE PARADE, MOUNTAIN VIEW, TALLAGHT DUB...</td>\n",
       "      <td>Limerick</td>\n",
       "      <td>False</td>\n",
       "    </tr>\n",
       "    <tr>\n",
       "      <th>4</th>\n",
       "      <td>2011-05-05</td>\n",
       "      <td>263000.0</td>\n",
       "      <td>4 KILTIPPER VIEW, KILTIPPER RD, TALLAGHT DUBLI...</td>\n",
       "      <td>Longford</td>\n",
       "      <td>False</td>\n",
       "    </tr>\n",
       "  </tbody>\n",
       "</table>\n",
       "</div>"
      ],
      "text/plain": [
       "  date_of_sale     price                                            address  \\\n",
       "0   2011-01-05  270000.0       10 CADDELL, THE LINKS, STATION RD, Dublin 13   \n",
       "1   2011-02-05  234000.0  12 LE HUNT HOUSE, BRENNANSTOWN, CABINTEELY VIL...   \n",
       "2   2011-03-05  165000.0    129 RIALTO COTTAGES, DUBLIN 8, DUBLIN, Dublin 8   \n",
       "3   2011-04-05  157500.0  23 SUNDALE PARADE, MOUNTAIN VIEW, TALLAGHT DUB...   \n",
       "4   2011-05-05  263000.0  4 KILTIPPER VIEW, KILTIPPER RD, TALLAGHT DUBLI...   \n",
       "\n",
       "      county not_full_market  \n",
       "0     Dublin           False  \n",
       "1       Cork           False  \n",
       "2  Waterford           False  \n",
       "3   Limerick           False  \n",
       "4   Longford           False  "
      ]
     },
     "execution_count": 19,
     "metadata": {},
     "output_type": "execute_result"
    }
   ],
   "source": [
    "def parsePrice(row):\n",
    "    str_a = row[3:]\n",
    "    str_a = str_a.replace(' ', '')\n",
    "    str_a = str_a.replace('**', '')\n",
    "    str_a = str_a.replace(',','')\n",
    "    \n",
    "    return float(str_a)\n",
    "\n",
    "df['price'] = df['price'].map(lambda row: parsePrice(row))\n",
    "df.head()"
   ]
  },
  {
   "cell_type": "markdown",
   "metadata": {},
   "source": [
    "# Inserting to DB"
   ]
  },
  {
   "cell_type": "code",
   "execution_count": 1,
   "metadata": {
    "collapsed": false
   },
   "outputs": [
    {
     "name": "stdout",
     "output_type": "stream",
     "text": [
      "No Connection\n"
     ]
    },
    {
     "ename": "NameError",
     "evalue": "name 'df' is not defined",
     "output_type": "error",
     "traceback": [
      "\u001b[0;31m---------------------------------------------------------------------------\u001b[0m",
      "\u001b[0;31mNameError\u001b[0m                                 Traceback (most recent call last)",
      "\u001b[0;32m<ipython-input-1-e045f2ae3337>\u001b[0m in \u001b[0;36m<module>\u001b[0;34m()\u001b[0m\n\u001b[1;32m      7\u001b[0m     \u001b[1;32mprint\u001b[0m\u001b[1;34m\"No Connection\"\u001b[0m\u001b[1;33m\u001b[0m\u001b[0m\n\u001b[1;32m      8\u001b[0m \u001b[1;33m\u001b[0m\u001b[0m\n\u001b[0;32m----> 9\u001b[0;31m \u001b[0mdf\u001b[0m\u001b[1;33m.\u001b[0m\u001b[0mto_sql\u001b[0m\u001b[1;33m(\u001b[0m\u001b[1;34m'arealyser_ppr'\u001b[0m\u001b[1;33m,\u001b[0m \u001b[0mconn\u001b[0m\u001b[1;33m,\u001b[0m \u001b[0mif_exists\u001b[0m\u001b[1;33m=\u001b[0m\u001b[1;34m'replace'\u001b[0m\u001b[1;33m,\u001b[0m \u001b[0mindex\u001b[0m\u001b[1;33m=\u001b[0m\u001b[0mTrue\u001b[0m\u001b[1;33m,\u001b[0m \u001b[0mindex_label\u001b[0m\u001b[1;33m=\u001b[0m\u001b[1;34m\"id\"\u001b[0m\u001b[1;33m)\u001b[0m\u001b[1;33m\u001b[0m\u001b[0m\n\u001b[0m",
      "\u001b[0;31mNameError\u001b[0m: name 'df' is not defined"
     ]
    }
   ],
   "source": [
    "# Database Connection Info\n",
    "db=\"C:\\Users\\User\\AppData\\Local\\Microsoft\\Microsoft SQL Server Local DB\\Instances\\MSSQLLocalDB\"\n",
    "\n",
    "try:\n",
    "    conn = p.connect(db)\n",
    "except Exception:\n",
    "    print\"No Connection\"\n",
    "\n",
    "df.to_sql('arealyser_ppr', conn, if_exists='replace', index=True, index_label=\"id\")"
   ]
  },
  {
   "cell_type": "markdown",
   "metadata": {},
   "source": [
    "## Data exploring"
   ]
  },
  {
   "cell_type": "code",
   "execution_count": 155,
   "metadata": {
    "collapsed": true
   },
   "outputs": [],
   "source": [
    "df.set_index(['date_of_sale'],inplace=True)"
   ]
  },
  {
   "cell_type": "code",
   "execution_count": 156,
   "metadata": {
    "collapsed": true
   },
   "outputs": [],
   "source": [
    "df = df.drop('not_full_market', 1)"
   ]
  },
  {
   "cell_type": "code",
   "execution_count": 157,
   "metadata": {
    "collapsed": false
   },
   "outputs": [],
   "source": [
    "averages_by_county = df.groupby('county')['price'].mean()"
   ]
  },
  {
   "cell_type": "code",
   "execution_count": 161,
   "metadata": {
    "collapsed": false
   },
   "outputs": [
    {
     "data": {
      "text/plain": [
       "county\n",
       "Offaly       252000.000000\n",
       "Donegal      261000.000000\n",
       "Westmeath    310979.460909\n",
       "Meath        337692.333333\n",
       "Galway       341681.783333\n",
       "Name: price, dtype: float64"
      ]
     },
     "execution_count": 161,
     "metadata": {},
     "output_type": "execute_result"
    }
   ],
   "source": [
    "averages_by_county = averages_by_county.sort_values()\n",
    "averages_by_county.head()"
   ]
  },
  {
   "cell_type": "code",
   "execution_count": 162,
   "metadata": {
    "collapsed": false
   },
   "outputs": [
    {
     "data": {
      "image/png": "[encoded data removed]",
      "text/plain": [
       "<matplotlib.figure.Figure at 0xb13dbe0>"
      ]
     },
     "metadata": {},
     "output_type": "display_data"
    }
   ],
   "source": [
    "averages_by_county.plot.barh()\n",
    "plt.show()"
   ]
  },
  {
   "cell_type": "code",
   "execution_count": 160,
   "metadata": {
    "collapsed": false
   },
   "outputs": [
    {
     "data": {
      "image/png": "[encoded data removed]",
      "text/plain": [
       "<matplotlib.figure.Figure at 0x972ecf8>"
      ]
     },
     "metadata": {},
     "output_type": "display_data"
    }
   ],
   "source": [
    "df.plot()\n",
    "plt.show()"
   ]
  },
  {
   "cell_type": "code",
   "execution_count": null,
   "metadata": {
    "collapsed": true
   },
   "outputs": [],
   "source": []
  }
 ],
 "metadata": {
  "kernelspec": {
   "display_name": "Python 2",
   "language": "python",
   "name": "python2"
  },
  "language_info": {
   "codemirror_mode": {
    "name": "ipython",
    "version": 2
   },
   "file_extension": ".py",
   "mimetype": "text/x-python",
   "name": "python",
   "nbconvert_exporter": "python",
   "pygments_lexer": "ipython2",
   "version": "2.7.12"
  }
 },
 "nbformat": 4,
 "nbformat_minor": 2
}
